{
  "nbformat": 4,
  "nbformat_minor": 0,
  "metadata": {
    "colab": {
      "provenance": [],
      "include_colab_link": true
    },
    "kernelspec": {
      "name": "python3",
      "display_name": "Python 3"
    },
    "language_info": {
      "name": "python"
    }
  },
  "cells": [
    {
      "cell_type": "markdown",
      "metadata": {
        "id": "view-in-github",
        "colab_type": "text"
      },
      "source": [
        "<a href=\"https://colab.research.google.com/github/nnmauricio03/examen1/blob/main/Examen_ii.ipynb\" target=\"_parent\"><img src=\"https://colab.research.google.com/assets/colab-badge.svg\" alt=\"Open In Colab\"/></a>"
      ]
    },
    {
      "cell_type": "code",
      "execution_count": null,
      "metadata": {
        "colab": {
          "base_uri": "https://localhost:8080/"
        },
        "id": "T9mcRMDLVpzh",
        "outputId": "09ad7e65-4abe-4c01-fdcd-6497daa8bca7"
      },
      "outputs": [
        {
          "output_type": "stream",
          "name": "stdout",
          "text": [
            "Requirement already satisfied: nacal in /usr/local/lib/python3.10/dist-packages (0.1.30)\n",
            "Requirement already satisfied: sympy>=1.1.0 in /usr/local/lib/python3.10/dist-packages (from nacal) (1.12)\n",
            "Requirement already satisfied: mpmath>=0.19 in /usr/local/lib/python3.10/dist-packages (from sympy>=1.1.0->nacal) (1.3.0)\n"
          ]
        }
      ],
      "source": [
        "!pip install --target=$nb_path nacal\n",
        "from nacal import *"
      ]
    },
    {
      "cell_type": "markdown",
      "source": [
        "1. Para la siguiente matriz $$\\left[ \\begin{array}{cccc}3&-2&2&1\\\\1&-1&-1&-3\\\\2&1&2&4\\\\4&-4&1&2\\\\ \\end{array} \\right]$$ lleva a cabo el algoritmo de eliminación paso a paso.\n",
        "\n",
        "Escribe en una celda separada cada operacion elemental."
      ],
      "metadata": {
        "id": "hBXBxw0VcrAh"
      }
    },
    {
      "cell_type": "code",
      "source": [
        "a=Vector((3,1,2,4))\n",
        "b=Vector((-2,-1,1,-4))\n",
        "c=Vector((2,-1,2,1))\n",
        "d=Vector((1,-3,4,2))\n",
        "A=Matrix((a,b,c,d))\n",
        "display(Latex(latex(A)))\n",
        "print()\n",
        "A&T((3,2))\n",
        "display(Latex(latex(A)))\n",
        "print()\n",
        "A&T((2,1,2))\n",
        "display(Latex(latex(A)))\n",
        "print()\n",
        "A&T((3,3))\n",
        "display(Latex(latex(A)))\n",
        "print()\n",
        "A&T((-2,1,3))\n",
        "display(Latex(latex(A)))\n",
        "print()\n",
        "A&T((3,4))\n",
        "display(Latex(latex(A)))\n",
        "print()\n",
        "A&T((-1,1,4))\n",
        "display(Latex(latex(A)))\n",
        "print()\n",
        "A&T((1,2,1))\n",
        "display(Latex(latex(A)))\n",
        "print()\n",
        "A&T((-5,2,3))\n",
        "display(Latex(latex(A)))\n",
        "print()\n",
        "A&T((-10,2,4))\n",
        "display(Latex(latex(A)))\n",
        "print()\n",
        "A&T((11,1))\n",
        "display(Latex(latex(A)))\n",
        "print()\n",
        "A&T((3,3,1))\n",
        "display(Latex(latex(A)))\n",
        "print()\n",
        "A&T((33,2))\n",
        "display(Latex(latex(A)))\n",
        "print()\n",
        "A&T((7,3,2))\n",
        "display(Latex(latex(A)))\n",
        "print()\n",
        "A&T((11,4))\n",
        "display(Latex(latex(A)))\n",
        "print()\n",
        "A&T((-20,3,4))\n",
        "display(Latex(latex(A)))\n",
        "print()"
      ],
      "metadata": {
        "id": "M_koj6QRUVHX"
      },
      "execution_count": null,
      "outputs": []
    },
    {
      "cell_type": "markdown",
      "source": [
        "2. Escriba las siguientes matrices elementales de orden 4.\n",
        "\n",
        "\n",
        "(a) I τ\n",
        "[(−7)1+3]\n",
        "\n",
        "(b) I τ\n",
        "[(1)1+4]\n",
        "\n",
        "(c) I τ\n",
        "[(3)2+1]\n",
        "\n",
        "(d) I τ\n",
        "[(−10)3]"
      ],
      "metadata": {
        "id": "2wXEkEH9hXGe"
      }
    },
    {
      "cell_type": "markdown",
      "source": [
        "a"
      ],
      "metadata": {
        "id": "S9_uOyzbUraQ"
      }
    },
    {
      "cell_type": "code",
      "source": [
        "display(Latex(latex(I(4)&T((-7,1,3)))))"
      ],
      "metadata": {
        "id": "IIhIjhLLUZ52"
      },
      "execution_count": null,
      "outputs": []
    },
    {
      "cell_type": "markdown",
      "source": [
        "b"
      ],
      "metadata": {
        "id": "Am_VIO_gUvbw"
      }
    },
    {
      "cell_type": "code",
      "source": [
        "display(Latex(latex(I(4)&T((1,1,4)))))"
      ],
      "metadata": {
        "id": "Wz7c2M_6Uw0p"
      },
      "execution_count": null,
      "outputs": []
    },
    {
      "cell_type": "markdown",
      "source": [
        "c"
      ],
      "metadata": {
        "id": "3U4tDzZZUyYo"
      }
    },
    {
      "cell_type": "code",
      "source": [
        "display(Latex(latex(I(4)&T((3,2,1)))))"
      ],
      "metadata": {
        "id": "KFlSc_DoU0Cp"
      },
      "execution_count": null,
      "outputs": []
    },
    {
      "cell_type": "markdown",
      "source": [
        "d"
      ],
      "metadata": {
        "id": "TkLZ_3jSU4Kq"
      }
    },
    {
      "cell_type": "code",
      "source": [
        "display(Latex(latex(I(4)&T((-10,3)))))"
      ],
      "metadata": {
        "id": "rLdu5cpmU5DZ"
      },
      "execution_count": null,
      "outputs": []
    },
    {
      "cell_type": "markdown",
      "source": [
        "3. Sea la matriz A = $\\left[ \\begin{array}{cccc}1&1&1&1\\\\0&1&1&1\\\\1&2&3&4\\\\4&-4&1&2\\\\ \\end{array} \\right]$\n",
        ", exprese las siguientes transformaciones elementales de\n",
        "\n",
        "A como productos de A por matrices elementales y escriba el resultado:\n",
        "\n",
        "(a) Multiplicar la primera columna por 3. (b) Restar la primera columna de la segunda."
      ],
      "metadata": {
        "id": "pwJzrogtFnkN"
      }
    },
    {
      "cell_type": "markdown",
      "source": [
        "a"
      ],
      "metadata": {
        "id": "vAfTDAVZVLQ-"
      }
    },
    {
      "cell_type": "code",
      "source": [
        "e=Vector((1,0,1,4))\n",
        "f=Vector((1,1,2,-4))\n",
        "g=Vector((1,1,3,1))\n",
        "h=Vector((1,1,4,2))\n",
        "B=Matrix((e,f,g,h))\n",
        "display(Latex(latex(B)))\n",
        "print()\n",
        "display(Latex(latex(Matrix(B)&T((3,1)))))\n",
        "print()"
      ],
      "metadata": {
        "id": "nEyn9TSGVBUS"
      },
      "execution_count": null,
      "outputs": []
    },
    {
      "cell_type": "markdown",
      "source": [
        "b"
      ],
      "metadata": {
        "id": "Pd9mDV4IVSOX"
      }
    },
    {
      "cell_type": "code",
      "source": [
        "e=Vector((1,0,1,4))\n",
        "f=Vector((1,1,2,-4))\n",
        "g=Vector((1,1,3,1))\n",
        "h=Vector((1,1,4,2))\n",
        "B=Matrix((e,f,g,h))\n",
        "display(Latex(latex(B)))\n",
        "print()\n",
        "display(Latex(latex(Matrix(B)&T((-1,1,2)))))\n",
        "print()"
      ],
      "metadata": {
        "id": "4e_KnybVVTp3"
      },
      "execution_count": null,
      "outputs": []
    },
    {
      "cell_type": "markdown",
      "source": [],
      "metadata": {
        "id": "HpVImf-pVOis"
      }
    },
    {
      "cell_type": "markdown",
      "source": [
        "4. Realiza el algoritmo de eliminación de Gauss-Jordan para la matriz del ejercicio 1, es decir continua las modificaciones de la matriz mediante operaciones elementales.\n",
        "Por cada paso del algoritmo escribe la celda de código correspondiente."
      ],
      "metadata": {
        "id": "NRMqK0VmB6px"
      }
    },
    {
      "cell_type": "code",
      "source": [
        "display(Latex(latex(A)))\n",
        "print()\n",
        "A&T((18,1))\n",
        "display(Latex(latex(A)))\n",
        "print()\n",
        "A&T((-5,4,1))\n",
        "display(Latex(latex(A)))\n",
        "print()\n",
        "A&T((6,2))\n",
        "display(Latex(latex(A)))\n",
        "print()\n",
        "A&T((1,4,2))\n",
        "display(Latex(latex(A)))\n",
        "print()\n",
        "A&T((54,3))\n",
        "display(Latex(latex(A)))\n",
        "print()\n",
        "A&T((-5,4,3))\n",
        "display(Latex(latex(A)))\n",
        "print()\n",
        "A&T((fracc(1,594),1))\n",
        "display(Latex(latex(A)))\n",
        "print()\n",
        "A&T((fracc(-1,198),2))\n",
        "display(Latex(latex(A)))\n",
        "print()\n",
        "A&T((fracc(-1,1782),3))\n",
        "display(Latex(latex(A)))\n",
        "print()\n",
        "A&T((fracc(1,162),4))\n",
        "display(Latex(latex(A)))\n",
        "print()"
      ],
      "metadata": {
        "id": "yFjzivj3Vcf-"
      },
      "execution_count": null,
      "outputs": []
    },
    {
      "cell_type": "markdown",
      "source": [
        "5. Compara tus resultados del ejercicio 1 con el metodo Elim()"
      ],
      "metadata": {
        "id": "C-GfuE9_Cw_H"
      }
    },
    {
      "cell_type": "code",
      "source": [
        "a=Vector((3,1,2,4))\n",
        "b=Vector((-2,-1,1,-4))\n",
        "c=Vector((2,-1,2,1))\n",
        "d=Vector((1,-3,4,2))\n",
        "A = Matrix((a,b,c,d))\n",
        "E=Elim(A,1)\n",
        "display(Latex(latex(E)))\n",
        "print()"
      ],
      "metadata": {
        "id": "tr38A6rHVeCG"
      },
      "execution_count": null,
      "outputs": []
    },
    {
      "cell_type": "markdown",
      "source": [
        " 6. Compara tus resultados del ejercicio 4 con el metodo ElimGJ()"
      ],
      "metadata": {
        "id": "LQ2qXfhaIRis"
      }
    },
    {
      "cell_type": "code",
      "source": [
        "a=Vector((3,1,2,4))\n",
        "b=Vector((-2,-1,1,-4))\n",
        "c=Vector((2,-1,2,1))\n",
        "d=Vector((1,-3,4,2))\n",
        "A=Matrix((a,b,c,d))\n",
        "EGJ=ElimGJ(A,1)\n",
        "print()"
      ],
      "metadata": {
        "id": "wsifuFKlViBR"
      },
      "execution_count": null,
      "outputs": []
    },
    {
      "cell_type": "markdown",
      "source": [
        "7. Encuentra la inversa de la matriz del ejercicio 1."
      ],
      "metadata": {
        "id": "2F3XtwbpIhOO"
      }
    },
    {
      "cell_type": "code",
      "source": [
        "a=Vector((3,1,2,4))\n",
        "b=Vector((-2,-1,1,-4))\n",
        "c=Vector((2,-1,2,1))\n",
        "d=Vector((1,-3,4,2))\n",
        "A=Matrix((a,b,c,d))\n",
        "p=InvMat(A,1)"
      ],
      "metadata": {
        "id": "N1z6wGdyVnxA"
      },
      "execution_count": null,
      "outputs": []
    },
    {
      "cell_type": "markdown",
      "source": [
        "8. Resuelva el siguiente sistema de ecuaciones:\n",
        "\n",
        "$$ \\begin{array}{ccc}5x&+7y&-z&=6\\\\2x&+10y&-2z&=4\\\\x&+y&+z&=0\\\\ \\end{array} $$"
      ],
      "metadata": {
        "id": "tABrI61xarPE"
      }
    },
    {
      "cell_type": "code",
      "source": [
        "w=Vector((5,2,1))\n",
        "x=Vector((7,10,1))\n",
        "y=Vector((-1,-2,1))\n",
        "z=Vector((6,4,0))\n",
        "C=Matrix((w,x,y,z))\n",
        "display(Latex(latex(C)))"
      ],
      "metadata": {
        "id": "psjmXXFRVtss"
      },
      "execution_count": null,
      "outputs": []
    }
  ]
}